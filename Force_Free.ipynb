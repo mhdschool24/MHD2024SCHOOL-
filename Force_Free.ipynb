{
  "nbformat": 4,
  "nbformat_minor": 0,
  "metadata": {
    "colab": {
      "provenance": []
    },
    "kernelspec": {
      "name": "python3",
      "display_name": "Python 3"
    },
    "language_info": {
      "name": "python"
    }
  },
  "cells": [
    {
      "cell_type": "code",
      "execution_count": null,
      "metadata": {
        "colab": {
          "base_uri": "https://localhost:8080/",
          "height": 508
        },
        "id": "5VnBNsoJJQBQ",
        "outputId": "a0deb4e3-e529-4d4d-97c3-229cd77373d0"
      },
      "outputs": [
        {
          "output_type": "display_data",
          "data": {
            "text/plain": [
              "<Figure size 640x480 with 0 Axes>"
            ]
          },
          "metadata": {}
        },
        {
          "output_type": "display_data",
          "data": {
            "text/plain": [
              "<Figure size 640x480 with 2 Axes>"
            ],
            "image/png": "[encoded data removed]"
          },
          "metadata": {}
        },
        {
          "output_type": "display_data",
          "data": {
            "text/plain": [
              "<Figure size 640x480 with 0 Axes>"
            ]
          },
          "metadata": {}
        }
      ],
      "source": [
        "#Force Free Equilibrium - Relaxation\n",
        "\n",
        "import numpy as np\n",
        "import matplotlib . pyplot as plt\n",
        "import matplotlib . animation as animation\n",
        "import numpy as np\n",
        "import matplotlib .cm as cm\n",
        "import matplotlib . mlab as mlab\n",
        "import matplotlib . pyplot as plt\n",
        "import matplotlib\n",
        "\n",
        "\n",
        "n = 1000 # number of iterations , for 10000 iterations the run takes about 1 minute .\n",
        "\n",
        "\n",
        "nR = 11 #x resolution\n",
        "nz = 11 #y resolution\n",
        "Psi = np. zeros ((nR ,nz))\n",
        "I = np. zeros ((nR ,nz))\n",
        "dI = np. zeros ((nR ,nz))\n",
        "\n",
        "Eq = np. zeros ((nR ,nz))\n",
        "Result = np. zeros ((4 , nR*nz))\n",
        "r = np. zeros (nR)\n",
        "z = np. zeros (nz)\n",
        "R_min = 0.\n",
        "R_max = 5.\n",
        "\n",
        "R0 = 1.\n",
        "B0 = 1\n",
        "B1 = 5\n",
        "z_min = 0.\n",
        "z_max = 5.\n",
        "dr = ( R_max - R_min ) / (nR - 1)\n",
        "dz = ( z_max - z_min ) / (nz - 1)\n",
        "# Setting the values of r and z\n",
        "for i in range (0, nR):\n",
        "  r[i] = i*dr\n",
        "\n",
        "for i in range (0, nz):\n",
        "  z[i] = i*dz\n",
        "# Boundary conditions Psi(R, z_min ) =0.5* B0*R**2\n",
        "for i in range (0, nR):\n",
        "  Psi [i, 0] = 0.5* B0*r[i ]**2\n",
        "# Boundary conditions Psi(R_min ,z)=0\n",
        "# Boundary conditions Psi(R_max ,z) =0.5* B0* R_max **2\n",
        "for j in range (0, nz):\n",
        "  Psi [0, j] = 0\n",
        "  Psi [nR -1, j] = 0.5* B0* R_max **2\n",
        "\n",
        "# Solution of Equation : drr Psi + dzz Psi - (1/r)* drPsi + I*dI= 0\n",
        "\n",
        "\n",
        "\n",
        "for k in range (0, n):\n",
        "#In this loop we evaluate the deivatives\n",
        "  for i in range (1, nR -1):\n",
        "    for j in range (1, nz -1):\n",
        "      drrPsi =( Psi[i+1,j] -2* Psi[i,j]+ Psi[i -1,j])/dr **2\n",
        "      dzzPsi =( Psi[i,j+1] -2* Psi[i,j]+ Psi[i,j -1]) /dz **2\n",
        "      drPsi = ( Psi[i+1,j]-Psi[i -1,j]) /(2* dr)\n",
        "\n",
        "      dI[i,j] = B1*R0 *((2* np.pi)/( B0* R_max **2) )*np. cos((2* np.pi*Psi[i,j]) /( B0* R_max **2) )\n",
        "\n",
        "\n",
        "      I[i,j] = B1*R0*np.sin ((2* np.pi* Psi[i,j]) /( B0*R_max **2) )\n",
        "\n",
        "\n",
        "      Eq[i,j] = drrPsi + dzzPsi - (1/ r[i])* drPsi + I[i,j]* dI[i,j]\n",
        "\n",
        "      Psi [i,j] = Psi[i,j] + Eq[i,j]* dr*dz *0.1\n",
        "\n",
        "\n",
        "\n",
        "# Boundary conditions at (R, z_max )=Psi[R, z_max -1]\n",
        "  for i in range (1,nR -1):\n",
        "    Psi [i, nz -1] = Psi [i, nz -2]\n",
        "  for i in range (0, nR):\n",
        "    I[i,nR -1] = I[i,nR -2]\n",
        "    dI[i,nR -1] = dI[i,nR -2]\n",
        "\n",
        "#In this loop we save the results in a single array\n",
        "for i in range (0, nR):\n",
        "  for j in range (0, nz):\n",
        "    k=i*nR+j\n",
        "\n",
        "    Result [0, k] = r[i]\n",
        "    Result [1, k] = z[j]\n",
        "    Result [2, k] = Psi[i,j]\n",
        "  Result [3, k] = I[i,j]\n",
        "\n",
        "\n",
        "# Here we plot the results\n",
        "X = Result [0, :]. reshape (nR ,nz)\n",
        "Y = Result [1, :]. reshape (nR ,nz)\n",
        "Z = Result [2, :]. reshape (nR ,nz)\n",
        "W = Result [3, :]. reshape (nR ,nz)\n",
        "plt . figure (1)\n",
        "fig = plt. figure (dpi =100)\n",
        "ax1 = fig. add_subplot (1 ,1 ,1 , aspect =1, xlim =[ R_min , R_max ],\n",
        "ylim =[ z_min , z_max ])\n",
        "ax1 . set_title (\" (R, z)\")\n",
        "ax1 . set_xlabel (\"R\")\n",
        "ax1 . set_ylabel (\"z\")\n",
        "s=np.linspace(0,12.5, 10)\n",
        "Psi_plot = ax1. contourf (X,Y,Z, levels=s)\n",
        "clbar = plt. colorbar ( Psi_plot )\n",
        "fig = plt. figure (dpi =100)\n",
        "\n"
      ]
    },
    {
      "cell_type": "code",
      "source": [],
      "metadata": {
        "id": "IHvDSRj_dRj-"
      },
      "execution_count": null,
      "outputs": []
    }
  ]
}