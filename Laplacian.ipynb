{
  "nbformat": 4,
  "nbformat_minor": 0,
  "metadata": {
    "colab": {
      "provenance": []
    },
    "kernelspec": {
      "name": "python3",
      "display_name": "Python 3"
    },
    "language_info": {
      "name": "python"
    }
  },
  "cells": [
    {
      "cell_type": "code",
      "execution_count": null,
      "metadata": {
        "colab": {
          "base_uri": "https://localhost:8080/",
          "height": 435
        },
        "id": "BwM6QuEaEff-",
        "outputId": "fad9d637-32fb-4e4f-897c-00e191402f07"
      },
      "outputs": [
        {
          "output_type": "display_data",
          "data": {
            "text/plain": [
              "<Figure size 640x480 with 1 Axes>"
            ],
            "image/png": "[encoded data removed]"
          },
          "metadata": {}
        }
      ],
      "source": [
        "#Solution of the Laplacian\n",
        "\n",
        "import numpy as np\n",
        "import matplotlib.cm as cm\n",
        "import matplotlib.mlab as mlab\n",
        "import matplotlib.pyplot as plt\n",
        "import matplotlib\n",
        "\n",
        "\n",
        "n=3 #number of iterations, for 10000 iterations the run takes about 1 minute.\n",
        "\n",
        "nx=11 #x resolution\n",
        "ny=11 #y resolution\n",
        "\n",
        "Psi=np.zeros((nx,ny))\n",
        "L=np.zeros((nx,ny))\n",
        "Result=np.zeros((3,nx*ny))\n",
        "\n",
        "x=np.zeros(nx)\n",
        "y=np.zeros(ny)\n",
        "\n",
        "x_min=0.\n",
        "x_max=1.\n",
        "\n",
        "y_min=0.\n",
        "y_max=1.\n",
        "\n",
        "dx=(x_max-x_min)/(nx-1)\n",
        "dy=(y_max-y_min)/(ny-1)\n",
        "\n",
        "\n",
        "#Setting the values of x and y\n",
        "\n",
        "for i in range(0,nx):\n",
        "    x[i]=i*dx\n",
        "\n",
        "for i in range(0,ny):\n",
        "    y[i]=i*dy\n",
        "\n",
        "#Boundary conditions Psi(x,y_min)=sin(2*Pi*x)\n",
        "#Boundary conditions Psi(x,y_max)=sin(3*Pi*x)\n",
        "for i in range(0,nx):\n",
        "    Psi[i, 0]=np.sin(2.*np.pi*x[i])\n",
        "    Psi[i, ny-1]=-np.sin(3.*np.pi*x[i])\n",
        "\n",
        "\n",
        "#Boundary conditions Psi(x_min,y)=sin(Pi*x)\n",
        "#Boundary conditions Psi(x_max,y)=sin(3*Pi*x)\n",
        "for i in range(0,nx):\n",
        "    Psi[0, i]=np.sin(np.pi*x[i])\n",
        "    Psi[nx-1, i]=np.sin(3.*np.pi*x[i])\n",
        "\n",
        "\n",
        "#Solution of Laplace's Equation: dxx Psi+dyy Psi=0\n",
        "\n",
        "for k in range(0, n):\n",
        "\n",
        "    #In this loop we evaluate the derivatives\n",
        "    for i in range (1, nx-1):\n",
        "        for j in range(1, ny-1):\n",
        "            dxxPsi=(Psi[i+1,j]-2*Psi[i,j]+Psi[i-1,j])/dx**2\n",
        "            dyyPsi=(Psi[i,j+1]-2*Psi[i,j]+Psi[i,j-1])/dy**2\n",
        "\n",
        "            L[i,j]=dxxPsi+dyyPsi\n",
        "\n",
        "    #In this loop we evaluate the new value of Psi\n",
        "\n",
        "    for i in range (1, nx-1):\n",
        "        for j in range(1, ny-1):\n",
        "\n",
        "            Psi[i,j]=Psi[i,j]+L[i,j]*dx*dy*0.1\n",
        "\n",
        "\n",
        "#In this loop we save the results in a single array\n",
        "\n",
        "for i in range(0,nx):\n",
        "    for j in range(0, ny):\n",
        "        k=i*nx+j\n",
        "        Result[0, k]=x[i]\n",
        "        Result[1, k]=y[j]\n",
        "        Result[2, k]=Psi[i,j]\n",
        "\n",
        "#Here we plot the results\n",
        "\n",
        "X= Result[0, :].reshape(nx,ny)\n",
        "Y= Result[1, :].reshape(nx,ny)\n",
        "Z= Result[2, :].reshape(nx,ny)\n",
        "\n",
        "fig = plt.figure(dpi=100)\n",
        "ax1 = fig.add_subplot(1,1,1, aspect=1, xlim=[x_min, x_max], ylim=[y_min, y_max])\n",
        "\n",
        "ax1 = ax1.contourf(X,Y,Z)\n",
        "\n",
        "plt.show()\n"
      ]
    },
    {
      "cell_type": "code",
      "source": [],
      "metadata": {
        "id": "VrtZNgrwElWv"
      },
      "execution_count": null,
      "outputs": []
    }
  ]
}